{
 "cells": [
  {
   "cell_type": "markdown",
   "id": "mobile-johns",
   "metadata": {
    "id": "mobile-johns"
   },
   "source": [
    "# Load Packages"
   ]
  },
  {
   "cell_type": "code",
   "execution_count": 218,
   "id": "cosmetic-bolivia",
   "metadata": {
    "id": "cosmetic-bolivia"
   },
   "outputs": [],
   "source": [
    "import numpy as np\n",
    "from matplotlib import pyplot as plt\n",
    "%matplotlib inline"
   ]
  },
  {
   "cell_type": "markdown",
   "id": "immediate-briefs",
   "metadata": {
    "id": "immediate-briefs"
   },
   "source": [
    "# Load Data Points (Do not modify the following block)"
   ]
  },
  {
   "cell_type": "code",
   "execution_count": 221,
   "id": "surgical-background",
   "metadata": {
    "id": "surgical-background",
    "outputId": "03cecea5-d5e3-4fa1-91e9-029580b3c2f9",
    "colab": {
     "base_uri": "https://localhost:8080/",
     "height": 385
    }
   },
   "outputs": [
    {
     "output_type": "stream",
     "name": "stdout",
     "text": [
      "=================================\n",
      "We have 15 number of data\n",
      "=================================\n",
      "Coefficients of the original polynomial\n",
      "w0:-0.467  w1:-0.005  w2:0.281  w3:-0.054  \n",
      "=================================\n"
     ]
    },
    {
     "output_type": "display_data",
     "data": {
      "text/plain": [
       "<Figure size 432x288 with 1 Axes>"
      ],
      "image/png": "[encoded data removed]"
     },
     "metadata": {
      "needs_background": "light"
     }
    }
   ],
   "source": [
    "with open('training_data.npz', 'rb') as f:\n",
    "    data = np.load(f)\n",
    "\n",
    "    x_list = data['x_list']\n",
    "    y_list = data['y_list']\n",
    "\n",
    "    x_data = data['x_data']\n",
    "    y_data = data['y_data']\n",
    "    n_data = len(x_data)\n",
    "    \n",
    "    w = data['w']\n",
    "    original_degree = data['order']\n",
    "    \n",
    "# Print information of original function.\n",
    "print(\"=================================\")\n",
    "print(\"We have\", n_data, \"number of data\")\n",
    "\n",
    "print(\"=================================\")\n",
    "weight_info_string = ''\n",
    "for d in range(original_degree):\n",
    "    weight_info_string += 'w'+str(d)+':'+str(round(w[d],ndigits=3))+'  '\n",
    "print(\"Coefficients of the original polynomial\")\n",
    "print(weight_info_string)\n",
    "print(\"=================================\")\n",
    "    \n",
    "plt.plot(x_list, y_list, 'b:', linewidth=2, label=\"Original Function\")\n",
    "plt.scatter(x_data, y_data, s=50, c='r', label=\"Data Points\")\n",
    "plt.xlim([np.min(x_list),np.max(x_list)])\n",
    "plt.ylim([np.min(y_data),np.max(y_data)])\n",
    "plt.legend(prop={'size': 12})\n",
    "plt.title(\"Data Plot\")\n",
    "plt.show()"
   ]
  },
  {
   "cell_type": "markdown",
   "id": "isolated-airfare",
   "metadata": {
    "id": "isolated-airfare"
   },
   "source": [
    "# Polynomial Regression (Programming Assignment)\n",
    "### Variable Explanation (Do not change variable names)\n",
    "- 'w' is true coefficients of the original polynomial function\n",
    "- 'original_degree' is the order of the original polynomial function\n",
    "- 'x_list' is a list of the points at $x$-axis\n",
    "- 'y_list' is a list of function value $f(x)$ corresponding to 'x_list'. In other words, y_list = $f($x_list$)$\n",
    "- 'x_data' is an input data\n",
    "- 'y_data' is an output data\n",
    "- 'n_data' is the number of data points\n",
    "\n",
    "### Our goal is to estimate 'w' from data points, 'x_data' and 'y_data'. Answer the following problems."
   ]
  },
  {
   "cell_type": "markdown",
   "id": "growing-leather",
   "metadata": {
    "id": "growing-leather"
   },
   "source": [
    "### 1. Compute a Vandermonde matrix when the degree of polynomial is $4$ (30pt)\n",
    "- The variable 'degree' is the order of polynomial. In this problem, we set degree=$4$\n",
    "- Use the variable 'A' for the Vandermonde matrix. Now, 'A' is initialized as a zero matrix whose elements are all zero. Fill in the element of the Vandermonde matrix by using power operator (\\*\\*), for loop, and np.concatenation."
   ]
  },
  {
   "cell_type": "code",
   "execution_count": 222,
   "id": "outstanding-oriental",
   "metadata": {
    "id": "outstanding-oriental",
    "colab": {
     "base_uri": "https://localhost:8080/"
    },
    "outputId": "450bf6ac-914d-4f62-bda8-0f83570ade71"
   },
   "outputs": [
    {
     "output_type": "execute_result",
     "data": {
      "text/plain": [
       "array([[0., 0., 0., 0., 0.],\n",
       "       [0., 0., 0., 0., 0.],\n",
       "       [0., 0., 0., 0., 0.],\n",
       "       [0., 0., 0., 0., 0.],\n",
       "       [0., 0., 0., 0., 0.],\n",
       "       [0., 0., 0., 0., 0.],\n",
       "       [0., 0., 0., 0., 0.],\n",
       "       [0., 0., 0., 0., 0.],\n",
       "       [0., 0., 0., 0., 0.],\n",
       "       [0., 0., 0., 0., 0.],\n",
       "       [0., 0., 0., 0., 0.],\n",
       "       [0., 0., 0., 0., 0.],\n",
       "       [0., 0., 0., 0., 0.],\n",
       "       [0., 0., 0., 0., 0.],\n",
       "       [0., 0., 0., 0., 0.]])"
      ]
     },
     "metadata": {},
     "execution_count": 222
    }
   ],
   "source": [
    "degree = 4\n",
    "A = np.zeros((n_data, degree+1)) # Dummy initialization\n",
    "A"
   ]
  },
  {
   "cell_type": "code",
   "source": [
    "np.set_printoptions(precision=3)\n",
    "A = np.ones((n_data,))# Create new matrix\n",
    "A = A[:, np.newaxis]\n",
    "for exponent in range(1, degree+1):\n",
    "  column = np.array(x_data)\n",
    "  column = column[:, np.newaxis]\n",
    "  for row in range(n_data):\n",
    "    column[row] = column[row]**exponent\n",
    "  A = np.concatenate((A, column), axis=1)\n",
    "A"
   ],
   "metadata": {
    "colab": {
     "base_uri": "https://localhost:8080/"
    },
    "id": "r1Q_TeiAPp2e",
    "outputId": "e11c6750-7d26-43f7-9dfa-5441b2b7abe1"
   },
   "id": "r1Q_TeiAPp2e",
   "execution_count": 223,
   "outputs": [
    {
     "output_type": "execute_result",
     "data": {
      "text/plain": [
       "array([[ 1.000e+00,  7.695e-01,  5.921e-01,  4.556e-01,  3.505e-01],\n",
       "       [ 1.000e+00, -5.487e-01,  3.011e-01, -1.652e-01,  9.066e-02],\n",
       "       [ 1.000e+00, -3.961e-01,  1.569e-01, -6.214e-02,  2.461e-02],\n",
       "       [ 1.000e+00, -3.445e-01,  1.187e-01, -4.087e-02,  1.408e-02],\n",
       "       [ 1.000e+00, -1.733e+00,  3.002e+00, -5.201e+00,  9.011e+00],\n",
       "       [ 1.000e+00, -1.026e+00,  1.053e+00, -1.081e+00,  1.110e+00],\n",
       "       [ 1.000e+00,  8.318e-01,  6.919e-01,  5.756e-01,  4.788e-01],\n",
       "       [ 1.000e+00,  4.181e-01,  1.748e-01,  7.308e-02,  3.056e-02],\n",
       "       [ 1.000e+00, -7.735e-01,  5.982e-01, -4.627e-01,  3.579e-01],\n",
       "       [ 1.000e+00,  1.414e-01,  1.999e-02,  2.826e-03,  3.996e-04],\n",
       "       [ 1.000e+00,  3.166e-01,  1.002e-01,  3.174e-02,  1.005e-02],\n",
       "       [ 1.000e+00,  8.321e-01,  6.924e-01,  5.761e-01,  4.794e-01],\n",
       "       [ 1.000e+00, -2.035e-02,  4.141e-04, -8.427e-06,  1.715e-07],\n",
       "       [ 1.000e+00, -2.434e-01,  5.926e-02, -1.442e-02,  3.511e-03],\n",
       "       [ 1.000e+00, -2.180e+00,  4.750e+00, -1.035e+01,  2.257e+01]])"
      ]
     },
     "metadata": {},
     "execution_count": 223
    }
   ]
  },
  {
   "cell_type": "markdown",
   "id": "mounted-fisher",
   "metadata": {
    "id": "mounted-fisher"
   },
   "source": [
    "### Print results (do not modify the following block)"
   ]
  },
  {
   "cell_type": "code",
   "execution_count": 224,
   "id": "mediterranean-brake",
   "metadata": {
    "id": "mediterranean-brake",
    "colab": {
     "base_uri": "https://localhost:8080/"
    },
    "outputId": "da171661-fd7d-481a-b959-050f39fa0c66"
   },
   "outputs": [
    {
     "output_type": "stream",
     "name": "stdout",
     "text": [
      "[[ 1.000e+00  7.695e-01  5.921e-01  4.556e-01  3.505e-01]\n",
      " [ 1.000e+00 -5.487e-01  3.011e-01 -1.652e-01  9.066e-02]\n",
      " [ 1.000e+00 -3.961e-01  1.569e-01 -6.214e-02  2.461e-02]\n",
      " [ 1.000e+00 -3.445e-01  1.187e-01 -4.087e-02  1.408e-02]\n",
      " [ 1.000e+00 -1.733e+00  3.002e+00 -5.201e+00  9.011e+00]\n",
      " [ 1.000e+00 -1.026e+00  1.053e+00 -1.081e+00  1.110e+00]\n",
      " [ 1.000e+00  8.318e-01  6.919e-01  5.756e-01  4.788e-01]\n",
      " [ 1.000e+00  4.181e-01  1.748e-01  7.308e-02  3.056e-02]\n",
      " [ 1.000e+00 -7.735e-01  5.982e-01 -4.627e-01  3.579e-01]\n",
      " [ 1.000e+00  1.414e-01  1.999e-02  2.826e-03  3.996e-04]\n",
      " [ 1.000e+00  3.166e-01  1.002e-01  3.174e-02  1.005e-02]\n",
      " [ 1.000e+00  8.321e-01  6.924e-01  5.761e-01  4.794e-01]\n",
      " [ 1.000e+00 -2.035e-02  4.141e-04 -8.427e-06  1.715e-07]\n",
      " [ 1.000e+00 -2.434e-01  5.926e-02 -1.442e-02  3.511e-03]\n",
      " [ 1.000e+00 -2.180e+00  4.750e+00 -1.035e+01  2.257e+01]]\n"
     ]
    }
   ],
   "source": [
    "print(A)"
   ]
  },
  {
   "cell_type": "markdown",
   "id": "approximate-italic",
   "metadata": {
    "id": "approximate-italic"
   },
   "source": [
    "### 2. Compute the coefficients of polynomial regression using a $4$ degree polynomial  (40pt)\n",
    "- Use the variable 'degree' and the Vandermonde matrix 'A' in Problem 1.\n",
    "- The variable 'w_est' is the coefficients of polynomial regression. Now, 'w_est' is initialized as a zero vector. Compute the 'w_est' from 'A' and 'y'\n",
    "- The variable 'y_est' is an estimated function value corresponding to the input points 'x_list'. Now, it is a zero list and fill the list by computing the estimated function values. In other words, y_est = $\\hat{f}($x_list$)$"
   ]
  },
  {
   "cell_type": "code",
   "execution_count": 225,
   "id": "finished-incentive",
   "metadata": {
    "id": "finished-incentive"
   },
   "outputs": [],
   "source": [
    "degree = 4\n",
    "w_est = np.zeros((degree+1,1))\n",
    "y_est = np.zeros_like(x_list)"
   ]
  },
  {
   "cell_type": "code",
   "source": [
    "from numpy.linalg import inv"
   ],
   "metadata": {
    "id": "B6eG1qmcd0E0"
   },
   "id": "B6eG1qmcd0E0",
   "execution_count": 226,
   "outputs": []
  },
  {
   "cell_type": "code",
   "source": [
    "y = np.array(y_data)\n",
    "y = y[:, np.newaxis]"
   ],
   "metadata": {
    "id": "3CCkjBYZefos"
   },
   "id": "3CCkjBYZefos",
   "execution_count": 248,
   "outputs": []
  },
  {
   "cell_type": "code",
   "source": [
    "w_est = np.matmul(np.matmul(inv(np.matmul(A.T, A)), A.T), y)"
   ],
   "metadata": {
    "id": "rfeaMVYxdyWw"
   },
   "id": "rfeaMVYxdyWw",
   "execution_count": 247,
   "outputs": []
  },
  {
   "cell_type": "code",
   "source": [
    "def degree4_func(input_x):\n",
    "  return w_est[0] + w_est[1] * input_x**1 + w_est[2] * input_x**2 + w_est[3] * input_x**3 + w_est[4] * input_x**4"
   ],
   "metadata": {
    "id": "CcXPFejkf9Xu"
   },
   "id": "CcXPFejkf9Xu",
   "execution_count": 229,
   "outputs": []
  },
  {
   "cell_type": "code",
   "source": [
    "for i in range(len(x_list)):\n",
    "  y_est[i] = degree4_func(x_list[i])"
   ],
   "metadata": {
    "id": "8a5EcPh6iYb7"
   },
   "id": "8a5EcPh6iYb7",
   "execution_count": 246,
   "outputs": []
  },
  {
   "cell_type": "markdown",
   "id": "exterior-donor",
   "metadata": {
    "id": "exterior-donor"
   },
   "source": [
    "### Print results (do not modify the following block)"
   ]
  },
  {
   "cell_type": "code",
   "execution_count": 231,
   "id": "innovative-truth",
   "metadata": {
    "id": "innovative-truth",
    "colab": {
     "base_uri": "https://localhost:8080/",
     "height": 281
    },
    "outputId": "939d6b44-5eb4-4774-ac52-b231657e1cf4"
   },
   "outputs": [
    {
     "output_type": "display_data",
     "data": {
      "text/plain": [
       "<Figure size 432x288 with 1 Axes>"
      ],
      "image/png": "[encoded data removed]"
     },
     "metadata": {
      "needs_background": "light"
     }
    }
   ],
   "source": [
    "plt.plot(x_list, y_list, 'b:', linewidth=2, label=\"Original Function\")\n",
    "plt.plot(x_list, y_est, 'm-', linewidth=2, label=\"Polynomial Regression (d={})\".format(degree))\n",
    "plt.scatter(x_data, y_data, s=50, c='r', label=\"Data Points\")\n",
    "plt.xlim([np.min(x_list),np.max(x_list)])\n",
    "plt.ylim([np.min(y_data),np.max(y_data)])\n",
    "plt.legend(prop={'size': 12})\n",
    "plt.title(\"Data Plot\")\n",
    "plt.show()"
   ]
  },
  {
   "cell_type": "markdown",
   "metadata": {
    "id": "l8uwcRjkJ8d7"
   },
   "source": [
    "### 3. Compute the polynomial regression with $1$ degree polynomials (15pt)\n",
    "- Repeat Problem 1 and Problem 2 with degree $1$.\n",
    "- Use the following variables.\n",
    "> degree1, A1, w_est1, y_est1"
   ],
   "id": "l8uwcRjkJ8d7"
  },
  {
   "cell_type": "code",
   "execution_count": 232,
   "id": "australian-italy",
   "metadata": {
    "id": "australian-italy"
   },
   "outputs": [],
   "source": [
    "degree1 = 1\n",
    "A1 = np.zeros((n_data, degree1+1)) \n",
    "w_est1 = np.zeros((degree1+1,1))\n",
    "y_est1 = np.zeros_like(x_list)"
   ]
  },
  {
   "cell_type": "code",
   "source": [
    "def degree1_func(input_x):\n",
    "  return w_est1[0] + w_est1[1] * input_x**1"
   ],
   "metadata": {
    "id": "MhtsIsQVjori"
   },
   "id": "MhtsIsQVjori",
   "execution_count": 233,
   "outputs": []
  },
  {
   "cell_type": "code",
   "source": [
    "A1 = np.ones((n_data,))# Create new matrix\n",
    "A1 = A1[:, np.newaxis]\n",
    "for exponent in range(1, degree1+1):\n",
    "  column = np.array(x_data)\n",
    "  column = column[:, np.newaxis]\n",
    "  for row in range(n_data):\n",
    "    column[row] = column[row]**exponent\n",
    "  A1 = np.concatenate((A1, column), axis=1)\n",
    "\n",
    "y = np.array(y_data)\n",
    "y = y[:, np.newaxis]\n",
    "\n",
    "w_est1 = np.matmul(np.matmul(inv(np.matmul(A1.T, A1)), A1.T), y)\n",
    "w_est1\n",
    "\n",
    "for i in range(len(x_list)):\n",
    "  y_est1[i] = degree1_func(x_list[i])"
   ],
   "metadata": {
    "id": "uiZE-FcShb3O"
   },
   "id": "uiZE-FcShb3O",
   "execution_count": 234,
   "outputs": []
  },
  {
   "cell_type": "markdown",
   "metadata": {
    "id": "W3tlswPUJ8d8"
   },
   "source": [
    "### Print results (do not modify the following block)"
   ],
   "id": "W3tlswPUJ8d8"
  },
  {
   "cell_type": "code",
   "execution_count": 235,
   "metadata": {
    "id": "VEJTQJygJ8d8",
    "colab": {
     "base_uri": "https://localhost:8080/",
     "height": 281
    },
    "outputId": "89ebba63-33ad-4181-83de-625049d27ed0"
   },
   "outputs": [
    {
     "output_type": "display_data",
     "data": {
      "text/plain": [
       "<Figure size 432x288 with 1 Axes>"
      ],
      "image/png": "[encoded data removed]"
     },
     "metadata": {
      "needs_background": "light"
     }
    }
   ],
   "source": [
    "plt.plot(x_list, y_list, 'b:', linewidth=2, label=\"Original Function\")\n",
    "plt.plot(x_list, y_est1, 'g-', linewidth=2, label=\"Polynomial Regression (d={})\".format(degree1))\n",
    "plt.scatter(x_data, y_data, s=50, c='r', label=\"Data Points\")\n",
    "plt.xlim([np.min(x_list),np.max(x_list)])\n",
    "plt.ylim([np.min(y_data),np.max(y_data)])\n",
    "plt.legend(prop={'size': 12})\n",
    "plt.title(\"Data Plot\")\n",
    "plt.show()"
   ],
   "id": "VEJTQJygJ8d8"
  },
  {
   "cell_type": "markdown",
   "metadata": {
    "id": "Hv8mGhXZJ8d9"
   },
   "source": [
    "### 4. Compute the polynomial regression with $10$ degree polynomials (15pt)\n",
    "- Repeat Problem 1 and Problem 2 with degree $10$.\n",
    "- Use the following variables.\n",
    "> degree2, A2, w_est2, y_est2"
   ],
   "id": "Hv8mGhXZJ8d9"
  },
  {
   "cell_type": "code",
   "execution_count": 240,
   "metadata": {
    "id": "wx9S4K9OJ8d9"
   },
   "outputs": [],
   "source": [
    "degree2 = 10\n",
    "A2 = np.zeros((n_data, degree2+1))\n",
    "w_est2 = np.zeros((degree2+1,1))\n",
    "y_est2 = np.zeros_like(x_list)"
   ],
   "id": "wx9S4K9OJ8d9"
  },
  {
   "cell_type": "code",
   "source": [
    "def degree10_func(input_x):\n",
    "  return sum([w_est2[i] * input_x**i for i in range(10)])"
   ],
   "metadata": {
    "id": "2ORx48JJkfbi"
   },
   "id": "2ORx48JJkfbi",
   "execution_count": 241,
   "outputs": []
  },
  {
   "cell_type": "code",
   "source": [
    "A2 = np.ones((n_data,))# Create new matrix\n",
    "A2 = A2[:, np.newaxis]\n",
    "for exponent in range(1, degree2+1):\n",
    "  column = np.array(x_data)\n",
    "  column = column[:, np.newaxis]\n",
    "  for row in range(n_data):\n",
    "    column[row] = column[row]**exponent\n",
    "  A2 = np.concatenate((A2, column), axis=1)\n",
    "\n",
    "y = np.array(y_data)\n",
    "y = y[:, np.newaxis]\n",
    "\n",
    "w_est2 = np.matmul(np.matmul(inv(np.matmul(A2.T, A2)), A2.T), y)"
   ],
   "metadata": {
    "id": "hjFQo9lrkZJf"
   },
   "id": "hjFQo9lrkZJf",
   "execution_count": 249,
   "outputs": []
  },
  {
   "cell_type": "code",
   "source": [
    "for i in range(len(x_list)):\n",
    "  y_est2[i] = degree10_func(x_list[i])"
   ],
   "metadata": {
    "id": "I4zlYJHWlHPF"
   },
   "id": "I4zlYJHWlHPF",
   "execution_count": 243,
   "outputs": []
  },
  {
   "cell_type": "markdown",
   "metadata": {
    "id": "FsuhZN_dJ8d9"
   },
   "source": [
    "### Print results (do not modify the following block)"
   ],
   "id": "FsuhZN_dJ8d9"
  },
  {
   "cell_type": "code",
   "execution_count": 244,
   "id": "dying-international",
   "metadata": {
    "id": "dying-international",
    "colab": {
     "base_uri": "https://localhost:8080/",
     "height": 281
    },
    "outputId": "0a1cae4f-29a4-4fd4-a6b4-5bd11d154120"
   },
   "outputs": [
    {
     "output_type": "display_data",
     "data": {
      "text/plain": [
       "<Figure size 432x288 with 1 Axes>"
      ],
      "image/png": "[encoded data removed]"
     },
     "metadata": {
      "needs_background": "light"
     }
    }
   ],
   "source": [
    "plt.plot(x_list, y_list, 'b:', linewidth=2, label=\"Original Function\")\n",
    "plt.plot(x_list, y_est2, 'c-', linewidth=2, label=\"Polynomial Regression (d={})\".format(degree2))\n",
    "plt.scatter(x_data, y_data, s=50, c='r', label=\"Data Points\")\n",
    "plt.xlim([np.min(x_list),np.max(x_list)])\n",
    "plt.ylim([np.min(y_data),np.max(y_data)])\n",
    "plt.legend(prop={'size': 12})\n",
    "plt.title(\"Data Plot\")\n",
    "plt.show()"
   ]
  },
  {
   "cell_type": "markdown",
   "metadata": {
    "id": "A1CZX6VKJ8d-"
   },
   "source": [
    "### 5. [Challenging Problem] Explain the effect of degree (20pt)\n",
    "- By solving the above problems, we can observe the behaviors of polynomial regression with different degrees (1, 4, 10)\n",
    "- Explain pros and cons of high degree polynomial\n",
    "- Explain pros and cons of low degree polynomial\n",
    "- What is this phenomenon called in machine learning?"
   ],
   "id": "A1CZX6VKJ8d-"
  },
  {
   "cell_type": "markdown",
   "metadata": {
    "id": "ugMMBwu5J8d-"
   },
   "source": [
    "### The following figure shows all regression results with different degrees."
   ],
   "id": "ugMMBwu5J8d-"
  },
  {
   "cell_type": "code",
   "execution_count": 245,
   "metadata": {
    "id": "dHKrbJrTJ8d-",
    "colab": {
     "base_uri": "https://localhost:8080/",
     "height": 281
    },
    "outputId": "5f8c7451-a752-4354-ca59-6bb9888d6d7e"
   },
   "outputs": [
    {
     "output_type": "display_data",
     "data": {
      "text/plain": [
       "<Figure size 432x288 with 1 Axes>"
      ],
      "image/png": "[encoded data removed]"
     },
     "metadata": {
      "needs_background": "light"
     }
    }
   ],
   "source": [
    "plt.plot(x_list, y_list, 'b:', linewidth=2, label=\"Original Function\")\n",
    "plt.plot(x_list, y_est, 'm-', linewidth=2, label=\"Polynomial Regression (d={})\".format(1))\n",
    "plt.plot(x_list, y_est1, 'g-', linewidth=2, label=\"Polynomial Regression (d={})\".format(4))\n",
    "plt.plot(x_list, y_est2, 'c-', linewidth=2, label=\"Polynomial Regression (d={})\".format(10))\n",
    "plt.scatter(x_data, y_data, s=50, c='r', label=\"Data Points\")\n",
    "plt.xlim([np.min(x_list),np.max(x_list)])\n",
    "plt.ylim([np.min(y_data),np.max(y_data)])\n",
    "plt.legend(prop={'size': 12})\n",
    "plt.title(\"Data Plot\")\n",
    "plt.show()"
   ],
   "id": "dHKrbJrTJ8d-"
  },
  {
   "cell_type": "markdown",
   "metadata": {
    "id": "7jHrPtq8J8d_"
   },
   "source": [
    "Write your answer!!!"
   ],
   "id": "7jHrPtq8J8d_"
  },
  {
   "cell_type": "markdown",
   "source": [
    "The phenomenon is called overfitting"
   ],
   "metadata": {
    "id": "BAthNrollfRG"
   },
   "id": "BAthNrollfRG"
  }
 ],
 "metadata": {
  "kernelspec": {
   "display_name": "Python 3",
   "language": "python",
   "name": "python3"
  },
  "language_info": {
   "codemirror_mode": {
    "name": "ipython",
    "version": 3
   },
   "file_extension": ".py",
   "mimetype": "text/x-python",
   "name": "python",
   "nbconvert_exporter": "python",
   "pygments_lexer": "ipython3",
   "version": "3.9.2"
  },
  "colab": {
   "provenance": []
  }
 },
 "nbformat": 4,
 "nbformat_minor": 5
}
